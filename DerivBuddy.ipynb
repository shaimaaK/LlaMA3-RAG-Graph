{
 "cells": [
  {
   "cell_type": "markdown",
   "id": "90f4ab1b-113d-4858-b7bb-ef2e2df7c7ea",
   "metadata": {},
   "source": [
    "# Load libraries"
   ]
  },
  {
   "cell_type": "code",
   "execution_count": 174,
   "id": "a19e6b7c",
   "metadata": {},
   "outputs": [],
   "source": [
    "from langchain_community.chat_models import ChatOllama\n",
    "from langchain_core.output_parsers import StrOutputParser,JsonOutputParser\n",
    "from langchain_core.prompts import ChatPromptTemplate,PromptTemplate\n",
    "from langchain_community.document_loaders import WebBaseLoader\n",
    "from langchain_community.vectorstores import Chroma\n",
    "from langchain_community.embeddings import GPT4AllEmbeddings\n",
    "from langchain_text_splitters import RecursiveCharacterTextSplitter\n",
    "from langchain.embeddings import HuggingFaceEmbeddings\n",
    "from langgraph.graph import END, StateGraph\n",
    "from langchain_community.embeddings import OllamaEmbeddings\n",
    "import nomic\n",
    "from langchain_nomic.embeddings import NomicEmbeddings\n",
    "from chromadb.errors import InvalidDimensionException\n",
    "from langchain_community.tools.tavily_search import TavilySearchResults"
   ]
  },
  {
   "cell_type": "markdown",
   "id": "33934e3a-1fbf-4d67-9fe8-2d7edfb90cfa",
   "metadata": {
    "jp-MarkdownHeadingCollapsed": true
   },
   "source": [
    "# Login for all used APIs"
   ]
  },
  {
   "cell_type": "code",
   "execution_count": 175,
   "id": "cb961b56",
   "metadata": {},
   "outputs": [],
   "source": [
    "import os\n",
    "import getpass\n",
    "nomic.cli.login(token=\"\")\n",
    "os.environ[\"TAVILY_API_KEY\"] = \"\"\n",
    "os.environ[\"LANGCHAIN_TRACING_V2\"] = \"true\"\n",
    "os.environ[\"LANGCHAIN_ENDPOINT\"] = \"https://api.smith.langchain.com\"\n",
    "os.environ[\"LANGCHAIN_API_KEY\"] = \"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\""
   ]
  },
  {
   "cell_type": "markdown",
   "id": "ab11464e-6f52-492b-b62b-9ff77bb7586b",
   "metadata": {
    "jp-MarkdownHeadingCollapsed": true
   },
   "source": [
    "# Read & process data from web"
   ]
  },
  {
   "cell_type": "code",
   "execution_count": 176,
   "id": "6d849935",
   "metadata": {},
   "outputs": [],
   "source": [
    "#fetch data\n",
    "urls = [\n",
    "     \"https://deriv.com/\"\n",
    "    \"https://deriv.com/trade-types/cfds/\",\n",
    "    \"https://deriv.com/trade-types/options/digital-options/up-and-down/\",\n",
    "    \"https://deriv.com/trade-types/options/digital-options/digits/\",\n",
    "    \"https://deriv.com/trade-types/options/digital-options/in-out/\",\n",
    "    \"https://deriv.com/trade-types/options/digital-options/reset-call-reset-put/\",\n",
    "    \"https://deriv.com/trade-types/options/digital-options/high-low-ticks/\",\n",
    "    \"https://deriv.com/trade-types/options/digital-options/touch-no-touch/\",\n",
    "    \"https://deriv.com/trade-types/options/digital-options/asians/\",\n",
    "    \"https://deriv.com/trade-types/options/digital-options/only-ups-only-downs/\",\n",
    "    \"https://deriv.com/trade-types/options/digital-options/lookbacks/\",\n",
    "    \"https://deriv.com/trade-types/options/accumulator-options/\",\n",
    "    \"https://deriv.com/trade-types/options/vanilla-options/\",\n",
    "    \"https://deriv.com/trade-types/options/turbo-options/\",\n",
    "    \"https://deriv.com/trade-types/multiplier/\",\n",
    "    \"https://deriv.com/dmt5/\",\n",
    "    \"https://deriv.com/derivx/\",\n",
    "    \"https://deriv.com/deriv-ctrader/\",\n",
    "    \"https://deriv.com/dtrader/\",\n",
    "    \"https://deriv.com/deriv-go/\",\n",
    "    \"https://deriv.com/dbot/\",\n",
    "    \"https://deriv.com/markets/forex/\",\n",
    "    \"https://deriv.com/markets/synthetic/\",\n",
    "    \"https://deriv.com/markets/stock/\",\n",
    "    \"https://deriv.com/markets/exchange-traded-funds/\",\n",
    "    \"https://deriv.com/markets/cryptocurrencies/\",\n",
    "    \"https://deriv.com/markets/commodities/\",\n",
    "    \"https://deriv.com/who-we-are/\",\n",
    "    \"https://deriv.com/why-choose-us/\",\n",
    "    \"https://deriv.com/partners/\",\n",
    "]\n"
   ]
  },
  {
   "cell_type": "code",
   "execution_count": 177,
   "id": "228477b5-fb1f-4c67-a5e2-ac8dc6ee2613",
   "metadata": {},
   "outputs": [],
   "source": [
    "### Index\n",
    "docs = [WebBaseLoader(url).load() for url in urls]\n",
    "docs_list = [item for sublist in docs for item in sublist]\n",
    "\n",
    "text_splitter = RecursiveCharacterTextSplitter.from_tiktoken_encoder(\n",
    "    chunk_size=200, chunk_overlap=0\n",
    ")\n",
    "doc_splits = text_splitter.split_documents(docs_list)"
   ]
  },
  {
   "cell_type": "code",
   "execution_count": 178,
   "id": "aa5d28fe",
   "metadata": {
    "scrolled": true
   },
   "outputs": [],
   "source": [
    "nom_emb = NomicEmbeddings(model=\"nomic-embed-text-v1\")\n",
    "try:\n",
    "    vectorstore = Chroma.from_documents(documents=doc_splits, embedding=nom_emb)\n",
    "except InvalidDimensionException:\n",
    "    Chroma().delete_collection()\n",
    "    vectorstore = Chroma.from_documents(documents=doc_splits, embedding=nom_emb)\n",
    "\n",
    "# Add to vectorDB\n",
    "retriever = vectorstore.as_retriever() #index"
   ]
  },
  {
   "cell_type": "markdown",
   "id": "ca5c9931-5926-4ce3-ade3-9cbef38daf8b",
   "metadata": {
    "jp-MarkdownHeadingCollapsed": true
   },
   "source": [
    "# Retrieval Grader"
   ]
  },
  {
   "cell_type": "code",
   "execution_count": 179,
   "id": "d55926da",
   "metadata": {},
   "outputs": [],
   "source": [
    "### Retrieval Grader\n",
    "local_llm=\"llama3\"\n",
    "\n",
    "# LLM\n",
    "llm = ChatOllama(model=local_llm, format=\"json\", temperature=0)\n",
    "\n",
    "prompt = PromptTemplate(\n",
    "    template=\"\"\"<|begin_of_text|><|start_header_id|>system<|end_header_id|> You are a professional friendly customer support agent with the task of grading \n",
    "    and assessing the relevance of a retrieved document to a user question. \\n\n",
    "    keep in mind that in deriv: Trade types are CFD, Options, Multipliers. CFDs (Contract for differences) Trade with leverage, unbeatable spreads, and fast execution on the widest range of markets. Options Trade diverse vanilla and exotic options across platforms and markets without risking more than your initial stake. Multipliers Trade on global financial markets and multiply your potential profit without losing more than your stake. Trading platforms are Deriv MT5, Deriv X,Deriv cTrader,SmartTrader, Deriv Trader,Deriv GO,Deriv Bot,Binary Bot. Trading assets and markets are : Forex,Derived indices,Stocks & indices,Commodities,Cryptocurrencies,Exchange-traded funds (ETFs)\n",
    "    If the document contains keywords related to the user question and answers their question, \n",
    "    grade it as relevant. It does not need to be a stringent test. The goal is to filter out erroneous and useless retrievals to users. \\n\n",
    "    Give a binary score 'yes' or 'no' score to indicate whether the document is relevant to the question. \\n\n",
    "    Provide the binary score as a JSON with a single key 'score' and no premable or explanation.\n",
    "     <|eot_id|><|start_header_id|>user<|end_header_id|>\n",
    "    Here is the retrieved document: \\n\\n {document} \\n\\n\n",
    "    Here is the user question: {question} \\n <|eot_id|><|start_header_id|>assistant<|end_header_id|>\n",
    "    \"\"\",\n",
    "    input_variables=[\"question\", \"document\"],\n",
    ")\n",
    "\n",
    "#create the chain\n",
    "retrieval_grader = prompt | llm | JsonOutputParser()"
   ]
  },
  {
   "cell_type": "code",
   "execution_count": 180,
   "id": "c69e3328-c196-4b73-a39e-946d5a76550c",
   "metadata": {},
   "outputs": [
    {
     "name": "stdout",
     "output_type": "stream",
     "text": [
      "[Document(page_content='complex derivative products that carry a significant risk of potential loss. CFDs are complex instruments with a high risk of losing money rapidly due to leverage. You should consider whether you understand how these products work and whether you can afford to take the high risk of losing your money.', metadata={'description': 'Award-winning online broker, rated excellent on Trustpilot. Sign up for a demo trading account to trade forex, stocks, and other financial markets.', 'language': 'No language found.', 'source': 'https://deriv.com/', 'title': 'Trade forex, stocks, crypto, gold & commodities | Deriv'}), Document(page_content='our services. Please also note that the information on this website does not constitute investment advice.The products offered on our website are complex derivative products that carry a significant risk of potential loss. CFDs are complex instruments with a high risk of losing money rapidly due to leverage. You should consider whether you understand how these products work and whether you can afford to take the high risk of losing your money.', metadata={'description': 'Open a digital options contract with an Asians trade type on Deriv’s trading platforms and earn payouts with accurate market predictions.', 'language': 'No language found.', 'source': 'https://deriv.com/trade-types/options/digital-options/asians/', 'title': 'Asians | Digital options contract | Deriv'}), Document(page_content='our services. Please also note that the information on this website does not constitute investment advice.The products offered on our website are complex derivative products that carry a significant risk of potential loss. CFDs are complex instruments with a high risk of losing money rapidly due to leverage. You should consider whether you understand how these products work and whether you can afford to take the high risk of losing your money.', metadata={'description': 'Start trading turbo options on Deriv Trader and earn a potentially high payout if your market predictions are correct.', 'language': 'No language found.', 'source': 'https://deriv.com/trade-types/options/turbo-options/', 'title': 'Turbo options | Trade options | Deriv'}), Document(page_content='our services. Please also note that the information on this website does not constitute investment advice.The products offered on our website are complex derivative products that carry a significant risk of potential loss. CFDs are complex instruments with a high risk of losing money rapidly due to leverage. You should consider whether you understand how these products work and whether you can afford to take the high risk of losing your money.', metadata={'description': 'Open a digital options contract with an Up/Down trade type on Deriv’s trading platforms and earn payouts with accurate market predictions.', 'language': 'No language found.', 'source': 'https://deriv.com/trade-types/options/digital-options/up-and-down/', 'title': 'Up/Down | Digital options contract | Deriv'})]\n"
     ]
    },
    {
     "data": {
      "text/plain": [
       "{'score': 'yes'}"
      ]
     },
     "execution_count": 180,
     "metadata": {},
     "output_type": "execute_result"
    }
   ],
   "source": [
    "#Test the LLM unit\n",
    "question = \"cfd\"\n",
    "docs = retriever.invoke(question)\n",
    "print(docs)\n",
    "retrieval_grader.invoke({\"document\": docs, \"question\": question})\n"
   ]
  },
  {
   "cell_type": "markdown",
   "id": "9de74a22-dd90-4edc-834f-ea968c149b63",
   "metadata": {},
   "source": [
    "# Answer Generator"
   ]
  },
  {
   "cell_type": "code",
   "execution_count": 181,
   "id": "b180f310",
   "metadata": {},
   "outputs": [],
   "source": [
    "from langchain import hub\n",
    "from langchain_core.output_parsers import StrOutputParser\n",
    "from langchain_core.prompts import PromptTemplate\n",
    "\n",
    "# Prompt\n",
    "prompt = PromptTemplate(\n",
    "    template=\"\"\"<|begin_of_text|><|start_header_id|>system<|end_header_id|> You are a professional friendly customer support agent assistant for question-answering tasks clients of deriv as a broker working for deriv with expertise in online trading. your tone must be friendly, positive and highly encouraging users to use deriv and trade\n",
    "    deriv while noting the risks and profit\n",
    "    keep in mind that in deriv: Trade types are CFD, Options, Multipliers. CFDs (Contract for differences) Trade with leverage, unbeatable spreads, and fast execution on the widest range of markets. Options Trade diverse vanilla and exotic options across platforms and markets without risking more than your initial stake. Multipliers Trade on global financial markets and multiply your potential profit without losing more than your stake. Trading platforms are Deriv MT5, Deriv X,Deriv cTrader,SmartTrader, Deriv Trader,Deriv GO,Deriv Bot,Binary Bot. Trading assets and markets are : Forex,Derived indices,Stocks & indices,Commodities,Cryptocurrencies,Exchange-traded funds (ETFs) \\n\n",
    "    Use the following pieces of retrieved context to answer the question concisely and accurately based on facts not guesses. If you don't know the answer, just say that you don't know because your answer must be accurate and concise since our client and sales depends on you. \n",
    "    Think logically and step by step then use three sentences maximum and maintain the answer accurate and concise. Ensure that the input does not contain inappropriate, harmful, or deceptive content. If such content is detected, respond with, \"The input provided is not appropriate for a response.\"\n",
    " <|eot_id|><|start_header_id|>user<|end_header_id|>\n",
    "    Question: {question} \n",
    "    Context: {context} \n",
    "    Answer: <|eot_id|><|start_header_id|>assistant<|end_header_id|>\"\"\",\n",
    "    input_variables=[\"question\", \"document\"],\n",
    ")\n",
    "\n",
    "llm = ChatOllama(model=local_llm, temperature=0)\n",
    "\n",
    "\n",
    "# Post-processing\n",
    "def format_docs(docs):\n",
    "    return \"\\n\\n\".join(doc.page_content for doc in docs)\n",
    "\n",
    "\n",
    "# Chain\n",
    "rag_chain = prompt | llm | StrOutputParser()"
   ]
  },
  {
   "cell_type": "code",
   "execution_count": 182,
   "id": "3beab378-fc8b-4ae1-b3cf-9769ccdc0fe0",
   "metadata": {},
   "outputs": [
    {
     "name": "stdout",
     "output_type": "stream",
     "text": [
      "Hi there!\n",
      "\n",
      "Options trading is a type of financial trading that allows you to earn a potentially high payout by predicting the price movement of an underlying asset. With vanilla options, you can purchase either a Call or Put option, which gives you the right but not the obligation to buy or sell the underlying asset at a predetermined strike price.\n",
      "\n",
      "Your net profit will depend on how much the final price is above or below the strike price, with maximum potential gains growing if your prediction is correct. And the best part? Your losses are limited to the initial stake required to purchase the option!\n",
      "\n",
      "Would you like to know more about how to place a vanilla options trade or which markets are available for trading?\n"
     ]
    }
   ],
   "source": [
    "# Run\n",
    "question = \"what is options trading\"\n",
    "docs = retriever.invoke(question)\n",
    "generation = rag_chain.invoke({\"context\": docs, \"question\": question})\n",
    "print(generation)"
   ]
  },
  {
   "cell_type": "markdown",
   "id": "e4330ab5-9670-45ef-968b-ef578c98383d",
   "metadata": {},
   "source": [
    "# Hallucinations Grader"
   ]
  },
  {
   "cell_type": "code",
   "execution_count": 183,
   "id": "42ab7309",
   "metadata": {},
   "outputs": [
    {
     "data": {
      "text/plain": [
       "{'score': 'yes'}"
      ]
     },
     "execution_count": 183,
     "metadata": {},
     "output_type": "execute_result"
    }
   ],
   "source": [
    "### Hallucination Grader\n",
    "\n",
    "# LLM\n",
    "llm = ChatOllama(model=local_llm, format=\"json\", temperature=0)\n",
    "\n",
    "# Prompt\n",
    "prompt = PromptTemplate(\n",
    "    template=\"\"\" <|begin_of_text|><|start_header_id|>system<|end_header_id|> You are a professional friendly customer support agent for deriv company for online trading, your task is grading and assessing accurately whether \n",
    "    an answer is grounded in / supported by a set of facts. Keep in mind that in deriv: Trade types are CFD, Options, Multipliers. CFDs (Contract for differences) Trade with leverage, unbeatable spreads, and fast execution on the widest range of markets. Options Trade diverse vanilla and exotic options across platforms and markets without risking more than your initial stake. Multipliers Trade on global financial markets and multiply your potential profit without losing more than your stake. Trading platforms are Deriv MT5, Deriv X,Deriv cTrader,SmartTrader, Deriv Trader,Deriv GO,Deriv Bot,Binary Bot. Trading assets and markets are : Forex,Derived indices,Stocks & indices,Commodities,Cryptocurrencies,Exchange-traded funds (ETFs) \\n\n",
    "    Think logically, slowly, critically, step by step and your grading should reflect a positive image of deriv. Give a binary 'yes' or 'no' score to indicate \n",
    "    whether the answer is grounded in / supported by a set of facts. Provide the binary score as a JSON with a \n",
    "    single key 'score' and no preamble or explanation. <|eot_id|><|start_header_id|>user<|end_header_id|>\n",
    "    Here are the facts:\n",
    "    \\n ------- \\n\n",
    "    {documents} \n",
    "    \\n ------- \\n\n",
    "    Here is the answer: {generation}  <|eot_id|><|start_header_id|>assistant<|end_header_id|>\"\"\",\n",
    "    input_variables=[\"generation\", \"documents\"],\n",
    ")\n",
    "\n",
    "hallucination_grader = prompt | llm | JsonOutputParser()\n",
    "hallucination_grader.invoke({\"documents\": docs, \"generation\": generation})"
   ]
  },
  {
   "cell_type": "markdown",
   "id": "c2d3cfa5-35f3-4749-b9ed-4499736d6295",
   "metadata": {},
   "source": [
    "# Answer Grader"
   ]
  },
  {
   "cell_type": "code",
   "execution_count": 184,
   "id": "200f7138",
   "metadata": {},
   "outputs": [
    {
     "data": {
      "text/plain": [
       "{'score': 'yes'}"
      ]
     },
     "execution_count": 184,
     "metadata": {},
     "output_type": "execute_result"
    }
   ],
   "source": [
    "# LLM\n",
    "llm = ChatOllama(model=local_llm, format=\"json\", temperature=0)\n",
    "\n",
    "# Prompt\n",
    "prompt = PromptTemplate(\n",
    "    template=\"\"\"<|begin_of_text|><|start_header_id|>system<|end_header_id|> You are a professional friendly customer support agent for deriv company for online trading, your task is assessing whether an \n",
    "    answer is useful to resolve a question. Keep in mind that in deriv: Trade types are CFD, Options, Multipliers. CFDs (Contract for differences) Trade with leverage, unbeatable spreads, and fast execution on the widest range of markets. Options Trade diverse vanilla and exotic options across platforms and markets without risking more than your initial stake. Multipliers Trade on global financial markets and multiply your potential profit without losing more than your stake. Trading platforms are Deriv MT5, Deriv X,Deriv cTrader,SmartTrader, Deriv Trader,Deriv GO,Deriv Bot,Binary Bot. Trading assets and markets are : Forex,Derived indices,Stocks & indices,Commodities,Cryptocurrencies,Exchange-traded funds (ETFs) \\n\n",
    "    Think logically, slowly, critically, step by step and your grading should reflect a positive image of deriv. Give a binary score 'yes' or 'no' to indicate whether the answer is \n",
    "    useful to resolve a question. Provide the binary score as a JSON with a single key 'score' and no preamble or explanation. \n",
    "     <|eot_id|><|start_header_id|>user<|end_header_id|> Here is the answer:\n",
    "    \\n ------- \\n\n",
    "    {generation} \n",
    "    \\n ------- \\n\n",
    "    Here is the question: {question} <|eot_id|><|start_header_id|>assistant<|end_header_id|>\"\"\",\n",
    "    input_variables=[\"generation\", \"question\"],\n",
    ")\n",
    "\n",
    "answer_grader = prompt | llm | JsonOutputParser()\n",
    "answer_grader.invoke({\"question\": question, \"generation\": generation})"
   ]
  },
  {
   "cell_type": "markdown",
   "id": "b1e3aab8-80e7-4c7b-b17b-2425052f871a",
   "metadata": {},
   "source": [
    "# Router Agent"
   ]
  },
  {
   "cell_type": "code",
   "execution_count": 221,
   "id": "43be0b24",
   "metadata": {},
   "outputs": [
    {
     "name": "stdout",
     "output_type": "stream",
     "text": [
      "'---DECISION: GENERATION IS NOT GROUNDED IN DOCUMENTS, RE-TRY---'{'datasource': 'vectorstore'}\n"
     ]
    }
   ],
   "source": [
    "### Router\n",
    "\n",
    "from langchain_community.chat_models import ChatOllama\n",
    "from langchain_core.output_parsers import JsonOutputParser\n",
    "from langchain_core.prompts import PromptTemplate\n",
    "\n",
    "# LLM\n",
    "llm = ChatOllama(model=local_llm, format=\"json\", temperature=0)\n",
    "\n",
    "prompt = PromptTemplate(\n",
    "    template=\"\"\"<|begin_of_text|><|start_header_id|>system<|end_header_id|> You are an expert at routing a \n",
    "    user question to a vectorstore or web search. Use the vectorstore for questions on LLM  agents, \n",
    "    prompt engineering, and adversarial attacks. You do not need to be stringent with the keywords \n",
    "    in the question related to these topics. Otherwise, use web-search. Give a binary choice 'web_search' \n",
    "    or 'vectorstore' based on the question. Return the a JSON with a single key 'datasource' and \n",
    "    no premable or explanation. Question to route: {question} <|eot_id|><|start_header_id|>assistant<|end_header_id|>\"\"\",\n",
    "    input_variables=[\"question\"],\n",
    ")\n",
    "\n",
    "question_router = prompt | llm | JsonOutputParser()\n",
    "question = \"cfd\"\n",
    "docs = retriever.get_relevant_documents(question)\n",
    "doc_txt = docs[1].page_content\n",
    "print(question_router.invoke({\"question\": question}))"
   ]
  },
  {
   "cell_type": "markdown",
   "id": "3e2b1b14-d3f4-480e-8bec-d30fa69f2ddb",
   "metadata": {},
   "source": [
    "# Search API - tarvily"
   ]
  },
  {
   "cell_type": "code",
   "execution_count": 222,
   "id": "0dc58ebc",
   "metadata": {},
   "outputs": [],
   "source": [
    "### Search\n",
    "\n",
    "web_search_tool = TavilySearchResults(k=3)"
   ]
  },
  {
   "cell_type": "markdown",
   "id": "6366b257-d96e-4dd0-bcfe-33cf41c84a0a",
   "metadata": {},
   "source": [
    "# Build Graph"
   ]
  },
  {
   "cell_type": "code",
   "execution_count": 223,
   "id": "dde285cf-66e9-4485-9822-501c6bbb6ea9",
   "metadata": {},
   "outputs": [],
   "source": [
    "from typing_extensions import TypedDict\n",
    "from typing import List\n",
    "from langchain_core.documents import Document"
   ]
  },
  {
   "cell_type": "markdown",
   "id": "4335f231-4921-43af-80c6-53505e2dc7bb",
   "metadata": {},
   "source": [
    "## Graph state"
   ]
  },
  {
   "cell_type": "code",
   "execution_count": 224,
   "id": "aed96c1a-6644-4f13-b41c-1d76eefc4051",
   "metadata": {},
   "outputs": [],
   "source": [
    "class GraphState(TypedDict):\n",
    "    \"\"\"\n",
    "    Represents the state of our graph.\n",
    "    Attributes:\n",
    "        question: question\n",
    "        generation: LLM generation\n",
    "        web_search: whether to add search\n",
    "        documents: list of documents\n",
    "    \"\"\"\n",
    "\n",
    "    question: str\n",
    "    generation: str\n",
    "    web_search: str\n",
    "    documents: List[str]"
   ]
  },
  {
   "cell_type": "markdown",
   "id": "1abe13e0-56b3-4158-ab26-d19c23e12388",
   "metadata": {},
   "source": [
    "## Nodes"
   ]
  },
  {
   "cell_type": "markdown",
   "id": "ebbf56e6-0e6a-491e-b16f-ca8752b98b74",
   "metadata": {},
   "source": [
    "### Document Retrival"
   ]
  },
  {
   "cell_type": "code",
   "execution_count": 225,
   "id": "23e52139-921e-40f9-96c9-5ee9e2924b41",
   "metadata": {},
   "outputs": [],
   "source": [
    "def retrieve(state):\n",
    "    \"\"\"\n",
    "    Retrieve documents from vectorstore\n",
    "\n",
    "    Args:\n",
    "        state (dict): The current graph state\n",
    "\n",
    "    Returns:\n",
    "        state (dict): New key added to state, documents, that contains retrieved documents\n",
    "    \"\"\"\n",
    "    print(\"---RETRIEVE---\")\n",
    "    question = state[\"question\"]\n",
    "\n",
    "    # Retrieval\n",
    "    documents = retriever.invoke(question)\n",
    "    return {\"documents\": documents, \"question\": question}"
   ]
  },
  {
   "cell_type": "markdown",
   "id": "9d57daf7-289c-48b8-9f5f-18f665829eee",
   "metadata": {},
   "source": [
    "### Answer Generator"
   ]
  },
  {
   "cell_type": "code",
   "execution_count": 226,
   "id": "4f2e6574-d227-4476-88a5-8b1d033fc6a8",
   "metadata": {},
   "outputs": [],
   "source": [
    "def generate(state):\n",
    "    \"\"\"\n",
    "    Generate answer using RAG on retrieved documents\n",
    "\n",
    "    Args:\n",
    "        state (dict): The current graph state\n",
    "\n",
    "    Returns:\n",
    "        state (dict): New key added to state, generation, that contains LLM generation\n",
    "    \"\"\"\n",
    "    print(\"---GENERATE---\")\n",
    "    question = state[\"question\"]\n",
    "    documents = state[\"documents\"]\n",
    "\n",
    "    # RAG generation\n",
    "    generation = rag_chain.invoke({\"context\": documents, \"question\": question})\n",
    "    return {\"documents\": documents, \"question\": question, \"generation\": generation}"
   ]
  },
  {
   "cell_type": "markdown",
   "id": "d32a25ad-7b1a-406f-a80d-0e2ce8dc8866",
   "metadata": {},
   "source": [
    "### Document Grader"
   ]
  },
  {
   "cell_type": "code",
   "execution_count": 227,
   "id": "2f008d0f-c694-4e04-a5c7-3dda3abe5da4",
   "metadata": {},
   "outputs": [],
   "source": [
    "def grade_documents(state):\n",
    "    \"\"\"\n",
    "    Determines whether the retrieved documents are relevant to the question\n",
    "    If any document is not relevant, we will set a flag to run web search\n",
    "\n",
    "    Args:\n",
    "        state (dict): The current graph state\n",
    "\n",
    "    Returns:\n",
    "        state (dict): Filtered out irrelevant documents and updated web_search state\n",
    "    \"\"\"\n",
    "\n",
    "    print(\"---CHECK DOCUMENT RELEVANCE TO QUESTION---\")\n",
    "    question = state[\"question\"]\n",
    "    documents = state[\"documents\"]\n",
    "\n",
    "    # Score each doc\n",
    "    filtered_docs = []\n",
    "    web_search = \"No\"\n",
    "    for d in documents:\n",
    "        score = retrieval_grader.invoke(\n",
    "            {\"question\": question, \"document\": d.page_content}\n",
    "        )\n",
    "        grade = score[\"score\"]\n",
    "        # Document relevant\n",
    "        if grade.lower() == \"yes\":\n",
    "            print(\"---GRADE: DOCUMENT RELEVANT---\")\n",
    "            filtered_docs.append(d)\n",
    "        # Document not relevant\n",
    "        else:\n",
    "            print(\"---GRADE: DOCUMENT NOT RELEVANT---\")\n",
    "            # We do not include the document in filtered_docs\n",
    "            # We set a flag to indicate that we want to run web search\n",
    "            web_search = \"Yes\"\n",
    "            continue\n",
    "    return {\"documents\": filtered_docs, \"question\": question, \"web_search\": web_search}"
   ]
  },
  {
   "cell_type": "markdown",
   "id": "b5aa482a-ea15-408c-8960-52ab84a85829",
   "metadata": {},
   "source": [
    "### Web Search"
   ]
  },
  {
   "cell_type": "code",
   "execution_count": 228,
   "id": "24083654-24e8-4d39-a69f-47dd0bb0cf4c",
   "metadata": {},
   "outputs": [],
   "source": [
    "def web_search(state):\n",
    "    \"\"\"\n",
    "    Web search based based on the question\n",
    "\n",
    "    Args:\n",
    "        state (dict): The current graph state\n",
    "\n",
    "    Returns:\n",
    "        state (dict): Appended web results to documents\n",
    "    \"\"\"\n",
    "\n",
    "    #print(\"---WEB SEARCH---\")\n",
    "    question = state[\"question\"]\n",
    "    documents = state[\"documents\"]\n",
    "\n",
    "    # Web search\n",
    "    docs = web_search_tool.invoke({\"query\": question})\n",
    "    web_results = \"\\n\".join([d[\"content\"] for d in docs])\n",
    "    web_results = Document(page_content=web_results)\n",
    "    if documents is not None:\n",
    "        documents.append(web_results)\n",
    "    else:\n",
    "        documents = [web_results]\n",
    "    return {\"documents\": documents, \"question\": question}"
   ]
  },
  {
   "cell_type": "markdown",
   "id": "4c9ba3bf-9f2f-4984-9480-b79b93a75224",
   "metadata": {},
   "source": [
    "### Routing"
   ]
  },
  {
   "cell_type": "code",
   "execution_count": 229,
   "id": "f6406efa-0010-4b9c-97b5-dd3c5413fe5b",
   "metadata": {},
   "outputs": [],
   "source": [
    "### Conditional edge\n",
    "def route_question(state):\n",
    "    \"\"\"\n",
    "    Route question to web search or RAG.\n",
    "\n",
    "    Args:\n",
    "        state (dict): The current graph state\n",
    "\n",
    "    Returns:\n",
    "        str: Next node to call\n",
    "    \"\"\"\n",
    "\n",
    "    print(\"---ROUTE QUESTION---\")\n",
    "    question = state[\"question\"]\n",
    "    print(question)\n",
    "    source = question_router.invoke({\"question\": question})\n",
    "    #print(source)\n",
    "    #print(source[\"datasource\"])\n",
    "    if source[\"datasource\"] == \"web_search\":\n",
    "        #print(\"---ROUTE QUESTION TO WEB SEARCH---\")\n",
    "        return \"websearch\"\n",
    "    elif source[\"datasource\"] == \"vectorstore\":\n",
    "        print(\"---ROUTE QUESTION TO RAG---\")\n",
    "        return \"vectorstore\""
   ]
  },
  {
   "cell_type": "markdown",
   "id": "7f4383c9-2d56-4e44-a69c-e20cc1f89f29",
   "metadata": {},
   "source": [
    "### Web search or LLM route"
   ]
  },
  {
   "cell_type": "code",
   "execution_count": 230,
   "id": "ad66ac10-97a9-4741-8491-0e6713dfdaa7",
   "metadata": {},
   "outputs": [],
   "source": [
    "def decide_to_generate(state):\n",
    "    \"\"\"\n",
    "    Determines whether to generate an answer, or add web search\n",
    "\n",
    "    Args:\n",
    "        state (dict): The current graph state\n",
    "\n",
    "    Returns:\n",
    "        str: Binary decision for next node to call\n",
    "    \"\"\"\n",
    "\n",
    "    print(\"---ASSESS GRADED DOCUMENTS---\")\n",
    "    question = state[\"question\"]\n",
    "    web_search = state[\"web_search\"]\n",
    "    filtered_documents = state[\"documents\"]\n",
    "\n",
    "    if web_search == \"Yes\":\n",
    "        # All documents have been filtered check_relevance\n",
    "        # We will re-generate a new query\n",
    "        #print(\"---DECISION: ALL DOCUMENTS ARE NOT RELEVANT TO QUESTION, INCLUDE WEB SEARCH---\")\n",
    "        return \"websearch\"\n",
    "    else:\n",
    "        # We have relevant documents, so generate answer\n",
    "        print(\"---DECISION: GENERATE---\")\n",
    "        return \"generate\""
   ]
  },
  {
   "cell_type": "markdown",
   "id": "3805d614-77e5-4480-ba9e-33b0c25bd52f",
   "metadata": {},
   "source": [
    "### Answer Grader"
   ]
  },
  {
   "cell_type": "code",
   "execution_count": 231,
   "id": "0143e23e-6328-4e7b-aa4a-c7ade0932cef",
   "metadata": {},
   "outputs": [],
   "source": [
    "def grade_generation_v_documents_and_question(state):\n",
    "    \"\"\"\n",
    "    Determines whether the generation is grounded in the document and answers question.\n",
    "\n",
    "    Args:\n",
    "        state (dict): The current graph state\n",
    "\n",
    "    Returns:\n",
    "        str: Decision for next node to call\n",
    "    \"\"\"\n",
    "\n",
    "    print(\"---CHECK HALLUCINATIONS---\")\n",
    "    question = state[\"question\"]\n",
    "    documents = state[\"documents\"]\n",
    "    generation = state[\"generation\"]\n",
    "\n",
    "    score = hallucination_grader.invoke(\n",
    "        {\"documents\": documents, \"generation\": generation}\n",
    "    )\n",
    "    grade = score[\"score\"]\n",
    "\n",
    "    # Check hallucination\n",
    "    if grade == \"yes\":\n",
    "        print(\"---DECISION: GENERATION IS GROUNDED IN DOCUMENTS---\")\n",
    "        # Check question-answering\n",
    "        print(\"---GRADE GENERATION vs QUESTION---\")\n",
    "        score = answer_grader.invoke({\"question\": question, \"generation\": generation})\n",
    "        grade = score[\"score\"]\n",
    "        if grade == \"yes\":\n",
    "            print(\"---DECISION: GENERATION ADDRESSES QUESTION---\")\n",
    "            return \"useful\"\n",
    "        else:\n",
    "            print(\"---DECISION: GENERATION DOES NOT ADDRESS QUESTION---\")\n",
    "            return \"not useful\"\n",
    "    else:\n",
    "        pprint(\"---DECISION: GENERATION IS NOT GROUNDED IN DOCUMENTS, RE-TRY---\")\n",
    "        return \"not supported\""
   ]
  },
  {
   "cell_type": "code",
   "execution_count": 232,
   "id": "2c490f2b",
   "metadata": {},
   "outputs": [],
   "source": [
    "workflow = StateGraph(GraphState)\n",
    "\n",
    "# Define the nodes\n",
    "workflow.add_node(\"websearch\", web_search)  # web search\n",
    "workflow.add_node(\"retrieve\", retrieve)  # retrieve\n",
    "workflow.add_node(\"grade_documents\", grade_documents)  # grade documents\n",
    "workflow.add_node(\"generate\", generate)  # generatae"
   ]
  },
  {
   "cell_type": "code",
   "execution_count": 233,
   "id": "48b9bd11",
   "metadata": {},
   "outputs": [],
   "source": [
    "# Build graph\n",
    "workflow.set_conditional_entry_point(\n",
    "    route_question,\n",
    "    {\n",
    "        \"websearch\": \"websearch\",\n",
    "        \"vectorstore\": \"retrieve\",\n",
    "    },\n",
    ")\n",
    "\n",
    "workflow.add_edge(\"retrieve\", \"grade_documents\")\n",
    "workflow.add_conditional_edges(\n",
    "    \"grade_documents\",\n",
    "    decide_to_generate,\n",
    "    {\n",
    "        \"websearch\": \"websearch\",\n",
    "        \"generate\": \"generate\",\n",
    "    },\n",
    ")\n",
    "workflow.add_edge(\"websearch\", \"generate\")\n",
    "workflow.add_conditional_edges(\n",
    "    \"generate\",\n",
    "    grade_generation_v_documents_and_question,\n",
    "    {\n",
    "        \"not supported\": \"generate\",\n",
    "        \"useful\": END,\n",
    "        \"not useful\": \"websearch\",\n",
    "    },\n",
    ")"
   ]
  },
  {
   "cell_type": "markdown",
   "id": "4de8c198-18e6-4878-8e67-8ff018aff2a8",
   "metadata": {},
   "source": [
    "# Use the DerivianBuddy bot"
   ]
  },
  {
   "cell_type": "code",
   "execution_count": 235,
   "id": "d34b9a9c",
   "metadata": {},
   "outputs": [
    {
     "name": "stdout",
     "output_type": "stream",
     "text": [
      "---ROUTE QUESTION---\n",
      "what is deriv\n",
      "---ROUTE QUESTION TO RAG---\n",
      "---RETRIEVE---\n",
      "---CHECK DOCUMENT RELEVANCE TO QUESTION---\n",
      "---GRADE: DOCUMENT RELEVANT---\n",
      "---GRADE: DOCUMENT RELEVANT---\n",
      "---GRADE: DOCUMENT RELEVANT---\n",
      "---GRADE: DOCUMENT RELEVANT---\n",
      "---ASSESS GRADED DOCUMENTS---\n",
      "---DECISION: GENERATE---\n",
      "---GENERATE---\n",
      "---CHECK HALLUCINATIONS---\n",
      "---DECISION: GENERATION IS GROUNDED IN DOCUMENTS---\n",
      "---GRADE GENERATION vs QUESTION---\n",
      "---DECISION: GENERATION ADDRESSES QUESTION---\n",
      "('Deriv is a leading online trading platform that offers a wide range of '\n",
      " 'financial instruments, including CFDs, Options, and Multipliers. With Deriv, '\n",
      " 'you can trade on various markets such as Forex, indices, stocks, '\n",
      " 'commodities, cryptocurrencies, and ETFs using our user-friendly platforms '\n",
      " 'like MT5, X, cTrader, SmartTrader, Trader, GO, Bot, and Binary Bot.')\n"
     ]
    }
   ],
   "source": [
    "# Compile\n",
    "app = workflow.compile()\n",
    "\n",
    "# Test\n",
    "from pprint import pprint\n",
    "\n",
    "inputs = {\"question\": \"what is deriv\"}\n",
    "for output in app.stream(inputs):\n",
    "    for key, value in output.items():\n",
    "        #print(f\"Finished running: {key}:\")\n",
    "        pass\n",
    "pprint(value[\"generation\"])"
   ]
  },
  {
   "cell_type": "code",
   "execution_count": null,
   "id": "c3e481f2-fd38-453a-ba69-9e503cc0b758",
   "metadata": {},
   "outputs": [],
   "source": []
  },
  {
   "cell_type": "code",
   "execution_count": null,
   "id": "ee0bfa43-da28-4b3b-b199-9d9041b964ba",
   "metadata": {},
   "outputs": [],
   "source": []
  }
 ],
 "metadata": {
  "kernelspec": {
   "display_name": "Python 3 (ipykernel)",
   "language": "python",
   "name": "python3"
  },
  "language_info": {
   "codemirror_mode": {
    "name": "ipython",
    "version": 3
   },
   "file_extension": ".py",
   "mimetype": "text/x-python",
   "name": "python",
   "nbconvert_exporter": "python",
   "pygments_lexer": "ipython3",
   "version": "3.11.7"
  },
  "toc": {
   "base_numbering": 1,
   "nav_menu": {},
   "number_sections": true,
   "sideBar": true,
   "skip_h1_title": false,
   "title_cell": "Table of Contents",
   "title_sidebar": "Contents",
   "toc_cell": false,
   "toc_position": {},
   "toc_section_display": true,
   "toc_window_display": false
  }
 },
 "nbformat": 4,
 "nbformat_minor": 5
}
